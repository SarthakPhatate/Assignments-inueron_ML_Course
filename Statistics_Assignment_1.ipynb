{
 "cells": [
  {
   "cell_type": "code",
   "execution_count": 1,
   "metadata": {
    "ExecuteTime": {
     "end_time": "2020-04-15T08:20:19.896108Z",
     "start_time": "2020-04-15T08:20:19.892119Z"
    }
   },
   "outputs": [],
   "source": [
    "import numpy as np"
   ]
  },
  {
   "cell_type": "code",
   "execution_count": 5,
   "metadata": {
    "ExecuteTime": {
     "end_time": "2020-04-15T08:23:17.176226Z",
     "start_time": "2020-04-15T08:23:17.166256Z"
    }
   },
   "outputs": [
    {
     "name": "stdout",
     "output_type": "stream",
     "text": [
      "335.92740617910624\n"
     ]
    }
   ],
   "source": [
    "'''1. You survey households in your area to find the average rent they are paying. Find the\n",
    "standard deviation from the following data:\n",
    "$1550, $1700, $900, $850, $1000, $950.'''\n",
    "\n",
    "rent=[1550,1700,900,850,1000,950]\n",
    "standard_deviation=np.std(rent)\n",
    "print(standard_deviation)"
   ]
  },
  {
   "cell_type": "code",
   "execution_count": 7,
   "metadata": {
    "ExecuteTime": {
     "end_time": "2020-04-15T08:24:40.599674Z",
     "start_time": "2020-04-15T08:24:40.592656Z"
    }
   },
   "outputs": [
    {
     "name": "stdout",
     "output_type": "stream",
     "text": [
      "5183.25\n"
     ]
    }
   ],
   "source": [
    "'''Find the variance for the following set of data representing trees in California (heights in\n",
    "feet):\n",
    "3, 21, 98, 203, 17, 9'''\n",
    "\n",
    "height=[3, 21, 98, 203, 17, 9]\n",
    "variance=np.var(height)\n",
    "print(variance)"
   ]
  },
  {
   "cell_type": "code",
   "execution_count": null,
   "metadata": {
    "ExecuteTime": {
     "end_time": "2020-04-15T08:31:42.091565Z",
     "start_time": "2020-04-15T08:31:42.079634Z"
    }
   },
   "outputs": [],
   "source": [
    "'''In a class on 100 students, 80 students passed in all subjects, 10 failed in one subject, 7\n",
    "failed in two subjects and 3 failed in three subjects. Find the probability distribution of\n",
    "the variable for number of subjects a student from the given class has failed in.'''\n",
    "\n",
    "Ans:\n",
    "The probability distribution can be shown as:\n",
    "\n",
    "The probability of failing in 0 subjects, P(X=0) = 0.8\n",
    "\n",
    "The probability of failing in 1 subjects, P(X=1) = 0.1\n",
    "\n",
    "The probability of failing in 2 subjects, P(X=2) = 0.07\n",
    "\n",
    "The probability of failing in 3 subjects, P(X=3) = 0.03\n"
   ]
  }
 ],
 "metadata": {
  "kernelspec": {
   "display_name": "Python 3",
   "language": "python",
   "name": "python3"
  },
  "language_info": {
   "codemirror_mode": {
    "name": "ipython",
    "version": 3
   },
   "file_extension": ".py",
   "mimetype": "text/x-python",
   "name": "python",
   "nbconvert_exporter": "python",
   "pygments_lexer": "ipython3",
   "version": "3.7.3"
  }
 },
 "nbformat": 4,
 "nbformat_minor": 4
}
